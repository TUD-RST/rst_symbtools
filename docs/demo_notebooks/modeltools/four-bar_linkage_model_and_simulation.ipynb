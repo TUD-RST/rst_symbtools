{
 "cells": [
  {
   "cell_type": "markdown",
   "metadata": {},
   "source": [
    "### Considered model: four-bar linkage (= two link manipulator + one link manipulator + rigid coupling)\n",
    "\n",
    "<img src=\"images/fourbar.png\">\n"
   ]
  },
  {
   "cell_type": "code",
   "execution_count": null,
   "metadata": {},
   "outputs": [],
   "source": [
    "%load_ext ipydex.displaytools\n",
    "%matplotlib inline\n",
    "\n",
    "import os\n",
    "import sympy as sp\n",
    "import numpy as npy  # we need `np` later \n",
    "from sympy import sin, cos, pi\n",
    "from sympy.interactive import printing\n",
    "import symbtools as st\n",
    "import symbtools.modeltools as mt\n",
    "import symbtools.visualisation as vt\n",
    "from symbtools.modeltools import Rz # rotation matrix in the xy plane (c, -s; s, c)\n",
    "import scipy.integrate as sc_integrate\n",
    "import matplotlib.pyplot as pl\n",
    "from assimulo.solvers import IDA # imports the solver IDA from Assimulo\n",
    "from assimulo.problem import Implicit_Problem # imports the problem formulation from Assimulo\n",
    "import ipydex\n",
    "plt = pl\n",
    "\n",
    "printing.init_printing(1)"
   ]
  },
  {
   "cell_type": "code",
   "execution_count": null,
   "metadata": {},
   "outputs": [],
   "source": [
    "t = sp.Symbol('t')  # time variable\n",
    "\n",
    "# coordinates\n",
    "np = 2\n",
    "nq = 1\n",
    "n = np + nq\n",
    "pp = st.symb_vector(\"p1:{}\".format(np+1)) ##:T\n",
    "qq = st.symb_vector(\"q1:{}\".format(nq+1)) ##:T\n",
    "\n",
    "\n",
    "aa = st.symb_vector(\"a1:{}\".format(nq+1)) ##:T\n",
    "\n",
    "ttheta = st.row_stack(pp, qq) ##:T\n",
    "tthetad = st.time_deriv(ttheta, ttheta) ##:T\n",
    "tthetadd = st.time_deriv(ttheta, ttheta, order=2) ##:T\n",
    "st.make_global(ttheta, tthetad, tthetadd)"
   ]
  },
  {
   "cell_type": "code",
   "execution_count": null,
   "metadata": {},
   "outputs": [],
   "source": [
    "params = sp.symbols('s1, s2, s3, m1, m2, m3, J1, J2, J3, l1, l2, l3, l4, g')\n",
    "parameter_values = list(dict(s1=1/2, s2=1/2, s3=1/2, m1=1, m2=1, m3=3, J1=1/12 , J2=1/12, J3=1/12,\n",
    "                             l1=0.8, l2=1.5, l3=1.5, l4=2, g=9.81).items())\n",
    "st.make_global(params)\n",
    "\n",
    "tau1, tau2 = ttau = st.symb_vector(\"tau1, tau2\")\n"
   ]
  },
  {
   "cell_type": "code",
   "execution_count": null,
   "metadata": {},
   "outputs": [],
   "source": [
    "Rz(q1) # rotation matrix"
   ]
  },
  {
   "cell_type": "markdown",
   "metadata": {},
   "source": [
    "Specify the geometry (joints G and centers of masses S)"
   ]
  },
  {
   "cell_type": "code",
   "execution_count": null,
   "metadata": {},
   "outputs": [],
   "source": [
    "# unit vectors\n",
    "ex = sp.Matrix([1, 0]) \n",
    "ey = sp.Matrix([0, 1]) \n",
    "\n",
    "# base 1 and 2\n",
    "B1 = sp.Matrix([0, 0])\n",
    "B2 = sp.Matrix([l4, 0])\n",
    "\n",
    "# coordinates of the two link manipulator\n",
    "S1 = Rz(q1)*ex*s1 ##:\n",
    "\n",
    "G1 = Rz(q1)*ex*l1 ##:\n",
    "\n",
    "S2 = G1 + Rz(q1 + p1)*ex*s2 ##:\n",
    "\n",
    "G2 = G1 + Rz(q1 + p1)*ex*l2 ##:\n",
    "\n",
    "\n",
    "# coordinates of the one link manipulator\n",
    "G2b = B2 + Rz(p2)*ex*l3 ##:\n",
    "\n",
    "S3 = B2 + Rz(p2)*ex*s3 ##:\n",
    "\n",
    "constraints = sp.Matrix([G2 - G2b]) ##:\n",
    "\n",
    "\n",
    "# time derivative\n",
    "Sd1, Sd2, Sd3 = st.col_split(st.time_deriv(st.col_stack(S1, S2, S3), ttheta))"
   ]
  },
  {
   "cell_type": "code",
   "execution_count": null,
   "metadata": {},
   "outputs": [],
   "source": [
    "# kinetic energy\n",
    "\n",
    "T_rot = (J1*qdot1**2 + J2*(qdot1 + pdot1)**2 + J3*(pdot2)**2)/2\n",
    "T_trans = ( m1*Sd1.T*Sd1  +  m2*Sd2.T*Sd2 +  m3*Sd3.T*Sd3 )/2\n",
    "\n",
    "T = T_rot + T_trans[0] ##:\n",
    "\n",
    "# potential energy\n",
    "V = m1*g*S1[1] + m2*g*S2[1] + m3*g*S3[1] ##:"
   ]
  },
  {
   "cell_type": "markdown",
   "metadata": {},
   "source": [
    "---\n",
    "\n",
    "The next cell draws the fourbar and allows to interactively test the kinematics of the mechanism.\n",
    "\n",
    "Use the sliders to adjust the coordinates. Activate the checkbox to respect the linkage constraints. Note that you can choose the keyword argument `free_vars` to be one of `q1`, `p1`, `p2`.\n",
    "\n",
    "---"
   ]
  },
  {
   "cell_type": "code",
   "execution_count": null,
   "metadata": {},
   "outputs": [],
   "source": [
    "# useful to test recent development of the lib\n",
    "\n",
    "import importlib as il\n",
    "il.reload(vt)\n"
   ]
  },
  {
   "cell_type": "code",
   "execution_count": null,
   "metadata": {},
   "outputs": [],
   "source": [
    "vis = vt.Visualiser(ttheta, xlim=(-2, 4), ylim=(-3, 3))\n",
    "vis.add_linkage(st.col_stack(B1, G1, G2,).subs(parameter_values))\n",
    "vis.add_linkage(st.col_stack(G2b, B2).subs(parameter_values))\n",
    "\n",
    "\n",
    "cnstrs = constraints.subs(parameter_values)\n",
    "\n",
    "# Note: there are two possibilities for the kinematic chain to close (two solutions to the algebraic constraints)\n",
    "\n",
    "# prefer \"upward solution\"\n",
    "vis.interact(p1=(-4, 4, .1, pi/2), free_vars=q1, constraints=cnstrs)\n",
    "\n",
    "# prefer \"downward solution\"\n",
    "# vis.interact(p1=(-4, 4, .1, -pi/2), p2=(-4, 4, .1, -2.1), free_vars=q1, constraints=cnstrs)"
   ]
  },
  {
   "cell_type": "code",
   "execution_count": null,
   "metadata": {},
   "outputs": [],
   "source": [
    "print(list(npy.arange(3)))"
   ]
  },
  {
   "cell_type": "code",
   "execution_count": null,
   "metadata": {},
   "outputs": [],
   "source": [
    "external_general_forces = [0 , 0, tau1]\n",
    "\n",
    "%time mod = mt.generate_symbolic_model(T, V, ttheta, external_general_forces, constraints=constraints)\n"
   ]
  },
  {
   "cell_type": "code",
   "execution_count": null,
   "metadata": {},
   "outputs": [],
   "source": [
    "# condition that endeffectors of the two manipulators are at the same place (x and y)\n",
    "\n",
    "mod.constraints"
   ]
  },
  {
   "cell_type": "code",
   "execution_count": null,
   "metadata": {},
   "outputs": [],
   "source": [
    "# ODE-part of the equation\n",
    "\n",
    "mod.eqns"
   ]
  },
  {
   "cell_type": "markdown",
   "metadata": {},
   "source": [
    "### Creation of DAE System"
   ]
  },
  {
   "cell_type": "code",
   "execution_count": null,
   "metadata": {},
   "outputs": [],
   "source": [
    "# generate a dae object\n",
    "\n",
    "dae = mod.calc_dae_eq(parameter_values)\n",
    "dae.generate_eqns_funcs()"
   ]
  },
  {
   "cell_type": "code",
   "execution_count": null,
   "metadata": {},
   "outputs": [],
   "source": [
    "# show dae variables\n",
    "\n",
    "dae.yy ##:T\n",
    "dae.yyd ##:T"
   ]
  },
  {
   "cell_type": "markdown",
   "metadata": {},
   "source": [
    "### Calculate consistent initial values by optimization (with given hints)"
   ]
  },
  {
   "cell_type": "code",
   "execution_count": null,
   "metadata": {},
   "outputs": [],
   "source": [
    "yy0, yyd0 = dae.calc_consistent_init_vals(p1=0.3) ##:\n",
    "\n",
    "t0 = 0\n",
    "\n",
    "# check if all values are almost zero (-> initial values fulfill the model)\n",
    "assert npy.allclose(dae.model_func(t0, yy0, yyd0), 0)"
   ]
  },
  {
   "cell_type": "code",
   "execution_count": null,
   "metadata": {},
   "outputs": [],
   "source": [
    "model = Implicit_Problem(dae.model_func, yy0, yyd0, t0)\n",
    "model.name = 'fourbar linkage'\n",
    "\n",
    "# indicate which components of y are differential (1) and which are purely algebraic (0)\n",
    "# model.algvar = dae.diff_alg_vars ##:\n",
    "\n",
    "sim = IDA(model)\n",
    "# sim.suppress_alg = True # neccessary to set to True for >1 index problem\n",
    "\n",
    "# values <= 30 produce lots of output\n",
    "sim.verbosity = 0"
   ]
  },
  {
   "cell_type": "code",
   "execution_count": null,
   "metadata": {},
   "outputs": [],
   "source": [
    "tfinal = 10.0        # specify the final time\n",
    "ncp = 500            # number of communication points (number of return points)\n",
    "\n",
    "# takes up to 50 seconds\n",
    "tt_sol, yy_sol, yyd_sol = sim.simulate(tfinal, ncp) "
   ]
  },
  {
   "cell_type": "code",
   "execution_count": null,
   "metadata": {},
   "outputs": [],
   "source": [
    "ttheta_sol = yy_sol[:, :mod.dae.ntt]\n",
    "ttheta_d_sol = yy_sol[:, mod.dae.ntt:mod.dae.ntt*2]"
   ]
  },
  {
   "cell_type": "code",
   "execution_count": null,
   "metadata": {},
   "outputs": [],
   "source": [
    "fig, (ax1, ax2) = plt.subplots(1, 2, figsize=(15, 7)); plt.sca(ax1)\n",
    "\n",
    "ax1.plot(tt_sol, ttheta_sol)\n",
    "ax1.set_title(\"angles\")\n",
    "\n",
    "ax2.plot(tt_sol, ttheta_d_sol)\n",
    "ax2.set_title(\"angular velocities\")"
   ]
  },
  {
   "cell_type": "markdown",
   "metadata": {},
   "source": [
    "####  Visualization and Animation"
   ]
  },
  {
   "cell_type": "code",
   "execution_count": null,
   "metadata": {},
   "outputs": [],
   "source": [
    "joint_pos_expr = st.col_stack(B1, G1, G2, B2).subs(parameter_values) ##:\n",
    "joint_pos_func = st.expr_to_func(mod.tt, joint_pos_expr, keep_shape=True)"
   ]
  },
  {
   "cell_type": "code",
   "execution_count": null,
   "metadata": {},
   "outputs": [],
   "source": [
    "# create object for animation\n",
    "simanim = vt.SimAnimation(mod.xx[:3], tt_sol, yy_sol[:, :3], figsize=(14, 7))\n",
    "simanim.add_visualiser(vis)\n",
    "\n",
    "# plot first frame\n",
    "simanim.plot_frame(0)"
   ]
  },
  {
   "cell_type": "code",
   "execution_count": null,
   "metadata": {},
   "outputs": [],
   "source": [
    "# this might need to be adapted on other systems\n",
    "\n",
    "plt.rcParams[\"animation.codec\"] = \"libvpx-vp9\"  # codec for webm\n",
    "plt.rcParams['animation.ffmpeg_path'] = os.path.join(os.getenv(\"CONDA_PREFIX\"), \"bin\", \"ffmpeg\")\n",
    "# plt.rcParams['animation.ffmpeg_path'] = '/usr/bin/ffmpeg'\n",
    "# writer = animation.FFMpegWriter(fps=30)\n",
    "\n",
    "fname=\"fourbar_linkage_free_movement2.webm\"\n",
    "\n",
    "# this might take some 1e1 seconds\n",
    "# simanim.save(fname, dpi=30)"
   ]
  },
  {
   "cell_type": "code",
   "execution_count": null,
   "metadata": {},
   "outputs": [],
   "source": [
    "vt.display_video_file(fname)"
   ]
  },
  {
   "cell_type": "code",
   "execution_count": null,
   "metadata": {},
   "outputs": [],
   "source": []
  }
 ],
 "metadata": {
  "kernelspec": {
   "display_name": "Python 3 (ipykernel)",
   "language": "python",
   "name": "python3"
  },
  "language_info": {
   "codemirror_mode": {
    "name": "ipython",
    "version": 3
   },
   "file_extension": ".py",
   "mimetype": "text/x-python",
   "name": "python",
   "nbconvert_exporter": "python",
   "pygments_lexer": "ipython3",
   "version": "3.9.7"
  }
 },
 "nbformat": 4,
 "nbformat_minor": 2
}
